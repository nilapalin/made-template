{
 "cells": [
  {
   "cell_type": "markdown",
   "metadata": {},
   "source": [
    "# Classfication\n",
    "\n",
    "## Load and setup data"
   ]
  },
  {
   "cell_type": "code",
   "execution_count": 51,
   "metadata": {},
   "outputs": [],
   "source": [
    "import os\n",
    "import sqlalchemy\n",
    "import pandas as pd\n",
    "from pathlib import Path\n",
    "import numpy as np \n",
    "import matplotlib as mpl\n",
    "import matplotlib.pyplot as plt\n",
    "import seaborn as sns\n",
    "import matplotlib.ticker as mtick\n",
    "from sklearn.model_selection import train_test_split\n",
    "from sklearn.linear_model import LogisticRegression\n",
    "from sklearn.metrics import classification_report, roc_curve, auc, roc_auc_score\n",
    "#print(os.getcwd())"
   ]
  },
  {
   "cell_type": "code",
   "execution_count": 52,
   "metadata": {},
   "outputs": [],
   "source": [
    "dbEngine=sqlalchemy.create_engine('sqlite:///../../data/gdc.sqlite')\n",
    "with dbEngine.connect() as conn:\n",
    "    sqlstatement_obese = \"select d.*, c.*,\\\n",
    "  case\\\n",
    "   when age_at_diagnosis_years <18 then 'Under 18'\\\n",
    "   when age_at_diagnosis_years between 18 and 24 then '18 - 24'\\\n",
    "   when age_at_diagnosis_years between 25 and 34 then '25 - 34'\\\n",
    "   when age_at_diagnosis_years between 35 and 44 then '35 - 44'\\\n",
    "   when age_at_diagnosis_years between 45 and 54 then '45 - 54'\\\n",
    "   when age_at_diagnosis_years between 55 and 64 then '55 - 64'\\\n",
    "   when age_at_diagnosis_years >= 65 then '65 or older'\\\n",
    " END as age_range,\\\n",
    " CASE \\\n",
    " \twhen c.\\\"gene.SIM1\\\" = '1' or c.\\\"gene.POMC\\\" = 1 or c.\\\"gene.LEPR\\\" ='1' or c.\\\"gene.MRAP2\\\" = 1 or c.\\\"gene.ADCY3\\\" = 1 or c.\\\"gene.NTRK2\\\" = 1 or c.\\\"gene.MC4R\\\"  = 1 or c.\\\"gene.KSR2\\\" = 1 or c.\\\"gene.LEP\\\" = 1 or c.\\\"gene.PCSK1\\\" = 1 or c.\\\"gene.BDNF\\\"  =1 or c.\\\"gene.SH2B1\\\" = 1 then TRUE \\\n",
    " \tELSE FALSE \\\n",
    " END as obesity_mutation,\\\n",
    " (c.\\\"gene.SIM1\\\" + c.\\\"gene.POMC\\\" + c.\\\"gene.LEPR\\\" + c.\\\"gene.MRAP2\\\" + c.\\\"gene.ADCY3\\\" + c.\\\"gene.NTRK2\\\" + c.\\\"gene.MC4R\\\" + c.\\\"gene.KSR2\\\" + c.\\\"gene.LEP\\\" + c.\\\"gene.PCSK1\\\" + c.\\\"gene.BDNF\\\" + c.\\\"gene.SH2B1\\\") as obesity_mutation_count\\\n",
    " from diagnoses d, cases c\\\n",
    " where d.case_id = c.id  and year_of_diagnosis = '2011' and year_of_diagnosis is not null;\"\n",
    "    gdc = pd.read_sql_query(sqlstatement_obese, conn)\n",
    "    gdc['year_of_diagnosis'] = gdc['year_of_diagnosis'].astype(int)"
   ]
  },
  {
   "cell_type": "code",
   "execution_count": 53,
   "metadata": {},
   "outputs": [],
   "source": [
    "dbEngine=sqlalchemy.create_engine('sqlite:///../../data/brfss.sqlite')\n",
    "with dbEngine.connect() as conn:\n",
    "    sqlstatement_obese = \"select YearStart, Data_Value, \\\"Age(years)\\\"  from brfss where LocationDesc = 'National' and length(\\\"Age(years)\\\") > 0 and Question like '%aged 18 years and older who have obesity' and YearStart = 2011 order by StratificationID1;\"\n",
    "    brfss_obesity = pd.read_sql_query(sqlstatement_obese, conn)\n",
    "    brfss_obesity['Data_Value'] = brfss_obesity['Data_Value'].astype(\"float\")"
   ]
  },
  {
   "cell_type": "code",
   "execution_count": 54,
   "metadata": {},
   "outputs": [],
   "source": [
    "dbEngine=sqlalchemy.create_engine('sqlite:///../../data/brfss.sqlite')\n",
    "with dbEngine.connect() as conn:\n",
    "    sqlstatement_overweight = \"select YearStart, Data_Value, \\\"Age(years)\\\"  from brfss where LocationDesc = 'National' and length(\\\"Age(years)\\\") > 0 and Question like 'Percent of adults aged 18 years and older who have an overweight classification' and YearStart = 2011 order by StratificationID1;\"\n",
    "    brfss_overweight = pd.read_sql_query(sqlstatement_overweight, conn)\n",
    "    brfss_overweight['Data_Value'] = brfss_overweight['Data_Value'].astype(\"float\")"
   ]
  },
  {
   "cell_type": "code",
   "execution_count": 55,
   "metadata": {},
   "outputs": [],
   "source": [
    "dbEngine=sqlalchemy.create_engine('sqlite:///../../data/brfss.sqlite')\n",
    "with dbEngine.connect() as conn:\n",
    "    sqlstatement_nophyac = \"select YearStart, Data_Value, \\\"Age(years)\\\"  from brfss where LocationDesc = 'National' and length(\\\"Age(years)\\\") > 0 and Question like 'Percent of adults who engage in no leisure-time physical activity' and YearStart = 2011 order by StratificationID1;\"\n",
    "    brfss_nophyac = pd.read_sql_query(sqlstatement_nophyac, conn)\n",
    "    brfss_nophyac['Data_Value'] = brfss_nophyac['Data_Value'].astype(\"float\")"
   ]
  },
  {
   "cell_type": "code",
   "execution_count": 56,
   "metadata": {},
   "outputs": [],
   "source": [
    "dbEngine=sqlalchemy.create_engine('sqlite:///../../data/brfss.sqlite')\n",
    "with dbEngine.connect() as conn:\n",
    "    sqlstatement_musclestr2ormore = \"select YearStart, Data_Value, \\\"Age(years)\\\"  from brfss where LocationDesc = 'National' and length(\\\"Age(years)\\\") > 0 and Question like 'Percent of adults who engage in muscle-strengthening activities on 2 or more days a week' and YearStart = 2011 order by StratificationID1;\"\n",
    "    brfss_musclestr2ormore = pd.read_sql_query(sqlstatement_musclestr2ormore, conn)\n",
    "    brfss_musclestr2ormore['Data_Value'] = brfss_musclestr2ormore['Data_Value'].astype(\"float\")"
   ]
  },
  {
   "cell_type": "code",
   "execution_count": 57,
   "metadata": {},
   "outputs": [],
   "source": [
    "brfss_gdc = gdc\n",
    "\n",
    "def obesity_prob(age_group):\n",
    "    ob_lines = brfss_obesity.loc[brfss_obesity['Age(years)'] == age_group]\n",
    "    ob_line = ob_lines.iloc[0]\n",
    "    return ob_line['Data_Value']\n",
    "\n",
    "def overweight_prob(age_group):\n",
    "    lines = brfss_overweight.loc[brfss_overweight['Age(years)'] == age_group]\n",
    "    line = lines.iloc[0]\n",
    "    return line['Data_Value']\n",
    "\n",
    "def nophyac_prob(age_group):\n",
    "    lines = brfss_nophyac.loc[brfss_nophyac['Age(years)'] == age_group]\n",
    "    line = lines.iloc[0]\n",
    "    return line['Data_Value']\n",
    "\n",
    "def musclestr2ormore_prob(age_group):\n",
    "    lines = brfss_musclestr2ormore.loc[brfss_musclestr2ormore['Age(years)'] == age_group]\n",
    "    line = lines.iloc[0]\n",
    "    return line['Data_Value']\n",
    "\n",
    "brfss_gdc['obesity_prob'] = brfss_gdc['age_range'].map(obesity_prob)\n",
    "brfss_gdc['overweight_prob'] = brfss_gdc['age_range'].map(overweight_prob)\n",
    "brfss_gdc['nophyac_prob'] = brfss_gdc['age_range'].map(nophyac_prob)\n",
    "brfss_gdc['musclestr2ormore_prob'] = brfss_gdc['age_range'].map(musclestr2ormore_prob)"
   ]
  },
  {
   "cell_type": "code",
   "execution_count": 58,
   "metadata": {},
   "outputs": [],
   "source": [
    "xdf = pd.DataFrame(brfss_gdc, columns=['age_at_diagnosis_days', 'primary_site', 'disease_type', 'obesity_prob', 'overweight_prob', 'nophyac_prob', 'musclestr2ormore_prob'])\n",
    "\n",
    "#https://stackoverflow.com/questions/37292872/how-can-i-one-hot-encode-in-python\n",
    "def onehotEncoding(orig, feature):\n",
    "    one_hot = pd.get_dummies(xdf[[feature]])\n",
    "    res = pd.concat([xdf, one_hot], axis=1)\n",
    "    return(res)\n",
    "\n",
    "xdf = onehotEncoding(xdf, 'primary_site')\n",
    "xdf = onehotEncoding(xdf, 'disease_type')\n",
    "xdf.pop('primary_site')\n",
    "xdf.pop('disease_type');"
   ]
  },
  {
   "cell_type": "code",
   "execution_count": 59,
   "metadata": {},
   "outputs": [],
   "source": [
    "#Split dataset into train, validation and test\n",
    "#https://realpython.com/train-test-split-python-data/\n",
    "#https://blog.roboflow.com/train-test-split/\n",
    "#https://stackoverflow.com/questions/38250710/how-to-split-data-into-3-sets-train-validation-and-test#38251213\n",
    "y = brfss_gdc['obesity_mutation']\n",
    "\n",
    "x_train, x_temp, y_train, y_temp = train_test_split(xdf, y, random_state=42, train_size=.7, test_size=.3)\n",
    "x_validation, x_test, y_validation, y_test = train_test_split(x_temp, y_temp, random_state=42, train_size=2/3, test_size=1/3)"
   ]
  },
  {
   "cell_type": "code",
   "execution_count": 60,
   "metadata": {},
   "outputs": [],
   "source": [
    "#Logistic regression\n",
    "# LR = LogisticRegression(random_state=42, solver='lbfgs', multi_class='ovr').fit(x_train, y_train)\n",
    "logreg = LogisticRegression(max_iter = 10000)\n",
    "logreg.fit(x_train, y_train);"
   ]
  },
  {
   "cell_type": "code",
   "execution_count": 61,
   "metadata": {},
   "outputs": [
    {
     "name": "stdout",
     "output_type": "stream",
     "text": [
      "              precision    recall  f1-score   support\n",
      "\n",
      "           0       0.90      0.47      0.62        81\n",
      "           1       0.85      0.98      0.91       249\n",
      "\n",
      "    accuracy                           0.86       330\n",
      "   macro avg       0.88      0.73      0.77       330\n",
      "weighted avg       0.86      0.86      0.84       330\n",
      "\n"
     ]
    }
   ],
   "source": [
    "#Validation\n",
    "prediction = logreg.predict(x_validation)\n",
    "print(classification_report(y_validation, prediction))"
   ]
  },
  {
   "cell_type": "markdown",
   "metadata": {},
   "source": [
    "Interpretation of the classification report: https://www.statology.org/sklearn-classification-report/"
   ]
  },
  {
   "cell_type": "code",
   "execution_count": 62,
   "metadata": {},
   "outputs": [
    {
     "data": {
      "image/png": "[encoded data removed]",
      "text/plain": [
       "<Figure size 640x480 with 1 Axes>"
      ]
     },
     "metadata": {},
     "output_type": "display_data"
    }
   ],
   "source": [
    "y_pred_proba = logreg.predict_proba(x_validation)[::,1]\n",
    "fpr, tpr, _ = roc_curve(y_validation,  y_pred_proba)\n",
    "auc = roc_auc_score(y_validation, y_pred_proba)\n",
    "\n",
    "#create ROC curve\n",
    "plt.plot(fpr,tpr,label=\"AUC=\"+str(auc))\n",
    "plt.ylabel('True Positive Rate')\n",
    "plt.xlabel('False Positive Rate')\n",
    "plt.legend(loc=4)\n",
    "plt.show()"
   ]
  }
 ],
 "metadata": {
  "kernelspec": {
   "display_name": "MADE_PROJECT",
   "language": "python",
   "name": "python3"
  },
  "language_info": {
   "codemirror_mode": {
    "name": "ipython",
    "version": 3
   },
   "file_extension": ".py",
   "mimetype": "text/x-python",
   "name": "python",
   "nbconvert_exporter": "python",
   "pygments_lexer": "ipython3",
   "version": "3.11.7"
  }
 },
 "nbformat": 4,
 "nbformat_minor": 2
}
